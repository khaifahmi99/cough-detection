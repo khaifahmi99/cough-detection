{
 "cells": [
  {
   "cell_type": "code",
   "execution_count": 3,
   "metadata": {},
   "outputs": [],
   "source": [
    "import matplotlib.pyplot as plt\n",
    "import pandas as pd\n",
    "import os\n",
    "import numpy as np\n",
    "import cv2 as cv\n",
    "\n",
    "%matplotlib inline"
   ]
  },
  {
   "cell_type": "code",
   "execution_count": 4,
   "metadata": {},
   "outputs": [],
   "source": [
    "vids = sorted(os.listdir('./dataset'))\n",
    "for vid in vids:\n",
    "    folder_name = vid.split('.')[0]\n",
    "    os.mkdir('./frames/' + folder_name)"
   ]
  },
  {
   "cell_type": "code",
   "execution_count": null,
   "metadata": {},
   "outputs": [],
   "source": [
    "for vid in vids:\n",
    "    counter = 1\n",
    "    vid_name = vid.split('.')[0]\n",
    "    cap = cv.VideoCapture('./dataset/' + vid)\n",
    "    success, frame = cap.read()\n",
    "    while success:\n",
    "        path = './frames/' + vid_name + '/' + vid_name + '_frame_' + str(counter) + '.jpg'\n",
    "        print(path)\n",
    "#         cv.imwrite('./frames/' + vid_name + '/' + vid_name + '_frame_' + str(counter) + '.jpg', frame)\n",
    "        cv.imwrite('./frames/' + vid_name + '/test.jpg' , frame)\n",
    "        success, frame = cap.read()\n",
    "        counter += 1\n",
    "        \n",
    "os.listdir('./frames')"
   ]
  }
 ],
 "metadata": {
  "kernelspec": {
   "display_name": "Python 3",
   "language": "python",
   "name": "python3"
  },
  "language_info": {
   "codemirror_mode": {
    "name": "ipython",
    "version": 3
   },
   "file_extension": ".py",
   "mimetype": "text/x-python",
   "name": "python",
   "nbconvert_exporter": "python",
   "pygments_lexer": "ipython3",
   "version": "3.7.6"
  }
 },
 "nbformat": 4,
 "nbformat_minor": 2
}
