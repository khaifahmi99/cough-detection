{
 "cells": [
  {
   "cell_type": "code",
   "execution_count": 1,
   "metadata": {},
   "outputs": [],
   "source": [
    "import matplotlib.pyplot as plt\n",
    "import pandas as pd\n",
    "import os\n",
    "import numpy as np\n",
    "import cv2 as cv\n",
    "\n",
    "%matplotlib inline"
   ]
  },
  {
   "cell_type": "code",
   "execution_count": 2,
   "metadata": {},
   "outputs": [],
   "source": [
    "# create folders for each video to store the frames\n",
    "\n",
    "vids = sorted(os.listdir('./dataset'))\n",
    "vids.remove('.DS_Store')\n",
    "for vid in vids:\n",
    "    folder_name = vid.split('.')[0]\n",
    "    os.makedirs('frames/' + folder_name)"
   ]
  },
  {
   "cell_type": "code",
   "execution_count": null,
   "metadata": {},
   "outputs": [],
   "source": [
    "# extracting the frames from the folder\n",
    "# frames stores in their own respective video folder\n",
    "\n",
    "for vid in vids:\n",
    "    counter = 1\n",
    "    vid_name = vid.split('.')[0]\n",
    "    cap = cv.VideoCapture('./dataset/' + vid)\n",
    "    success, frame = cap.read()\n",
    "    while success:\n",
    "        path = './frames/' + vid_name + '/' + vid_name + '_frame_' + str(counter) + '.jpg'\n",
    "        cv.imwrite(path, frame)\n",
    "        success, frame = cap.read()\n",
    "        counter += 1\n",
    "        \n",
    "os.listdir('./frames')"
   ]
  },
  {
   "cell_type": "code",
   "execution_count": null,
   "metadata": {},
   "outputs": [],
   "source": []
  }
 ],
 "metadata": {
  "kernelspec": {
   "display_name": "Python 3",
   "language": "python",
   "name": "python3"
  },
  "language_info": {
   "codemirror_mode": {
    "name": "ipython",
    "version": 3
   },
   "file_extension": ".py",
   "mimetype": "text/x-python",
   "name": "python",
   "nbconvert_exporter": "python",
   "pygments_lexer": "ipython3",
   "version": "3.7.6"
  }
 },
 "nbformat": 4,
 "nbformat_minor": 2
}
