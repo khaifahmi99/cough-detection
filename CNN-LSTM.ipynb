{
 "cells": [
  {
   "cell_type": "code",
   "execution_count": 1,
   "metadata": {},
   "outputs": [],
   "source": [
    "import pandas as pd\n",
    "import numpy as np\n",
    "import matplotlib.pyplot as plt\n",
    "import seaborn as sns\n",
    "import os\n",
    "import cv2\n",
    "import imutils\n",
    "\n",
    "%matplotlib inline"
   ]
  },
  {
   "cell_type": "code",
   "execution_count": 2,
   "metadata": {},
   "outputs": [],
   "source": [
    "COUGH_PATH = 'videos_final/cough/'\n",
    "NOT_COUGH_PATH = 'videos_final/not_cough/'\n",
    "\n",
    "cough_vids = os.listdir(COUGH_PATH)\n",
    "not_cough_vids = os.listdir(NOT_COUGH_PATH)\n",
    "\n",
    "if '.DS_Store' in cough_vids:\n",
    "    cough_vids.remove('.DS_Store')\n",
    "    \n",
    "if '.DS_Store' in not_cough_vids:    \n",
    "    not_cough_vids.remove('.DS_Store')"
   ]
  },
  {
   "cell_type": "code",
   "execution_count": 3,
   "metadata": {},
   "outputs": [],
   "source": [
    "video_length = []\n",
    "\n",
    "for vid in cough_vids:\n",
    "    frames = []\n",
    "    \n",
    "    # read video\n",
    "    cap = cv2.VideoCapture(COUGH_PATH + vid)\n",
    "    success, frame = cap.read()\n",
    "    while success:\n",
    "        frames.append(frame)\n",
    "        success, frame = cap.read()\n",
    "\n",
    "    video_length.append(len(frames))\n",
    "    \n",
    "for vid in not_cough_vids:\n",
    "    frames = []\n",
    "    \n",
    "    # read video\n",
    "    cap = cv2.VideoCapture(NOT_COUGH_PATH + vid)\n",
    "    success, frame = cap.read()\n",
    "    while success:\n",
    "        frames.append(frame)\n",
    "        success, frame = cap.read()\n",
    "    \n",
    "    video_length.append(len(frames))"
   ]
  },
  {
   "cell_type": "code",
   "execution_count": 4,
   "metadata": {},
   "outputs": [
    {
     "data": {
      "text/plain": [
       "[4, 4, 6, 6, 8, 8, 9, 9, 9, 10]"
      ]
     },
     "execution_count": 4,
     "metadata": {},
     "output_type": "execute_result"
    }
   ],
   "source": [
    "video_length.sort()\n",
    "video_length[:10]"
   ]
  },
  {
   "cell_type": "code",
   "execution_count": 5,
   "metadata": {},
   "outputs": [],
   "source": [
    "MIN_LENGTH = 10\n",
    "SIZE = 228 # reduce for faster training\n",
    "DIM = 3 # for 3-color dimension\n",
    "\n",
    "X = []\n",
    "y = []\n",
    "\n",
    "for vid in cough_vids:\n",
    "    frames = []\n",
    "    \n",
    "    # read video\n",
    "    cap = cv2.VideoCapture(COUGH_PATH + vid)\n",
    "    success, frame = cap.read()\n",
    "    while success:\n",
    "        frame = cv2.resize(frame, (SIZE, SIZE))\n",
    "        frames.append(frame)\n",
    "        success, frame = cap.read()\n",
    "        \n",
    "    \n",
    "    if len(frames) >= MIN_LENGTH:\n",
    "        # append img array in X and label in Y\n",
    "        X.append(frames[:10])\n",
    "        y.append(1) # label 1 for coughing\n",
    "        \n",
    "for vid in not_cough_vids:\n",
    "    frames = []\n",
    "    \n",
    "    # read video\n",
    "    cap = cv2.VideoCapture(NOT_COUGH_PATH + vid)\n",
    "    success, frame = cap.read()\n",
    "    while success:\n",
    "        frame = cv2.resize(frame, (SIZE, SIZE))\n",
    "        frames.append(frame)\n",
    "        success, frame = cap.read()\n",
    "    \n",
    "    if len(frames) >= MIN_LENGTH:\n",
    "        # append img array in X and label in Y\n",
    "        X.append(frames[:10])\n",
    "        y.append(0) # label 0 for not coughing"
   ]
  },
  {
   "cell_type": "code",
   "execution_count": 6,
   "metadata": {},
   "outputs": [],
   "source": [
    "X = np.asarray(X)\n",
    "y = np.asarray(y)"
   ]
  },
  {
   "cell_type": "code",
   "execution_count": 7,
   "metadata": {},
   "outputs": [
    {
     "data": {
      "text/plain": [
       "(459, 10, 228, 228, 3)"
      ]
     },
     "execution_count": 7,
     "metadata": {},
     "output_type": "execute_result"
    }
   ],
   "source": [
    "X.shape"
   ]
  },
  {
   "cell_type": "code",
   "execution_count": 8,
   "metadata": {},
   "outputs": [
    {
     "data": {
      "text/plain": [
       "(459,)"
      ]
     },
     "execution_count": 8,
     "metadata": {},
     "output_type": "execute_result"
    }
   ],
   "source": [
    "y.shape"
   ]
  },
  {
   "cell_type": "code",
   "execution_count": 11,
   "metadata": {},
   "outputs": [
    {
     "name": "stdout",
     "output_type": "stream",
     "text": [
      "(367, 10, 228, 228, 3) (367,)\n",
      "(92, 10, 228, 228, 3) (92,)\n"
     ]
    }
   ],
   "source": [
    "from sklearn.model_selection import train_test_split\n",
    "\n",
    "random_state = 0\n",
    "np.random.seed(random_state)\n",
    "\n",
    "train_X, test_X, train_y, test_y = train_test_split(X, y, train_size=0.8, shuffle=True, random_state=random_state)\n",
    "\n",
    "print(train_X.shape, train_y.shape)\n",
    "print(test_X.shape, test_y.shape)"
   ]
  },
  {
   "cell_type": "code",
   "execution_count": 29,
   "metadata": {},
   "outputs": [],
   "source": [
    "from keras.models import Sequential\n",
    "from keras.layers import Dense, LSTM, Conv2D, MaxPooling2D, Flatten, Dropout, TimeDistributed, GlobalAveragePooling2D\n",
    "\n",
    "#defining the model architecture\n",
    "\n",
    "def create_cnn_model():    \n",
    "    cnn = Sequential()\n",
    "    cnn.add(Conv2D(64, kernel_size=(3,3), activation='relu', input_shape=(SIZE, SIZE, DIM)))\n",
    "    cnn.add(MaxPooling2D(pool_size=(2,2), strides=2))\n",
    "    cnn.add(Conv2D(128, kernel_size=(3,3), activation='relu'))\n",
    "    cnn.add(MaxPooling2D(pool_size=(2,2), strides=2))\n",
    "    cnn.add(Dropout(0.2))\n",
    "    cnn.add(Flatten())\n",
    "    return cnn\n",
    "\n",
    "def create_model():\n",
    "    model = Sequential()\n",
    "    model.add(TimeDistributed(create_cnn_model()))\n",
    "    model.add(LSTM(28, return_sequences=True))\n",
    "    model.add(Dense(16, activation='relu'))\n",
    "    model.add(Dropout(0.2))\n",
    "    model.add(Dense(1, activation='sigmoid'))\n",
    "    return model"
   ]
  },
  {
   "cell_type": "code",
   "execution_count": 33,
   "metadata": {},
   "outputs": [
    {
     "name": "stdout",
     "output_type": "stream",
     "text": [
      "Model: \"sequential_18\"\n",
      "_________________________________________________________________\n",
      "Layer (type)                 Output Shape              Param #   \n",
      "=================================================================\n",
      "time_distributed_20 (TimeDis (None, 10, 114, 114, 64)  1792      \n",
      "_________________________________________________________________\n",
      "time_distributed_21 (TimeDis (None, 10, 57, 57, 64)    36928     \n",
      "_________________________________________________________________\n",
      "time_distributed_22 (TimeDis (None, 10, 64)            0         \n",
      "_________________________________________________________________\n",
      "lstm_7 (LSTM)                (None, 1024)              4460544   \n",
      "_________________________________________________________________\n",
      "dense_13 (Dense)             (None, 1024)              1049600   \n",
      "_________________________________________________________________\n",
      "dropout_12 (Dropout)         (None, 1024)              0         \n",
      "_________________________________________________________________\n",
      "dense_14 (Dense)             (None, 1)                 1025      \n",
      "=================================================================\n",
      "Total params: 5,549,889\n",
      "Trainable params: 5,549,889\n",
      "Non-trainable params: 0\n",
      "_________________________________________________________________\n"
     ]
    }
   ],
   "source": [
    "model = Sequential()\n",
    "\n",
    "model.add(\n",
    "    TimeDistributed(\n",
    "        Conv2D(64, (3,3), \n",
    "            padding='same', strides=(2,2), activation='relu'),\n",
    "        input_shape = (10, SIZE, SIZE, 3)\n",
    "    )\n",
    ")\n",
    "model.add(\n",
    "    TimeDistributed( \n",
    "        Conv2D(64, (3,3), \n",
    "            padding='same', strides=(2,2), activation='relu')\n",
    "    )\n",
    ")\n",
    "\n",
    "model.add(\n",
    "    TimeDistributed(\n",
    "        GlobalAveragePooling2D() # Or Flatten()\n",
    "    )\n",
    ")\n",
    "model.add(\n",
    "    LSTM(1024, activation='relu', return_sequences=False)\n",
    ")\n",
    "\n",
    "model.add(Dense(1024, activation='relu'))\n",
    "model.add(Dropout(.5))\n",
    "\n",
    "model.add(Dense(1, activation='sigmoid'))\n",
    "model.compile(loss='binary_crossentropy',optimizer='Adam',metrics=['accuracy'])\n",
    "model.summary()"
   ]
  },
  {
   "cell_type": "code",
   "execution_count": 34,
   "metadata": {},
   "outputs": [
    {
     "name": "stdout",
     "output_type": "stream",
     "text": [
      "Train on 293 samples, validate on 74 samples\n",
      "Epoch 1/50\n",
      "293/293 [==============================] - 75s 254ms/step - loss: 21.4590 - accuracy: 0.5154 - val_loss: 1.4907 - val_accuracy: 0.4865\n",
      "Epoch 2/50\n",
      "293/293 [==============================] - 60s 205ms/step - loss: 1.1389 - accuracy: 0.4608 - val_loss: 1.3013 - val_accuracy: 0.4865\n",
      "Epoch 3/50\n",
      "293/293 [==============================] - 57s 195ms/step - loss: 0.8906 - accuracy: 0.5495 - val_loss: 0.7378 - val_accuracy: 0.4865\n",
      "Epoch 4/50\n",
      "293/293 [==============================] - 52s 178ms/step - loss: 0.7456 - accuracy: 0.4915 - val_loss: 0.7194 - val_accuracy: 0.5135\n",
      "Epoch 5/50\n",
      "293/293 [==============================] - 51s 173ms/step - loss: 0.7323 - accuracy: 0.4710 - val_loss: 0.6951 - val_accuracy: 0.4865\n",
      "Epoch 6/50\n",
      "293/293 [==============================] - 48s 162ms/step - loss: 0.7065 - accuracy: 0.4778 - val_loss: 0.6932 - val_accuracy: 0.5135\n",
      "Epoch 7/50\n",
      "293/293 [==============================] - 50s 172ms/step - loss: 0.6991 - accuracy: 0.4949 - val_loss: 0.6930 - val_accuracy: 0.5135\n",
      "Epoch 8/50\n",
      "293/293 [==============================] - 49s 167ms/step - loss: 0.6936 - accuracy: 0.5392 - val_loss: 0.6932 - val_accuracy: 0.5270\n",
      "Epoch 9/50\n",
      "293/293 [==============================] - 49s 168ms/step - loss: 0.7004 - accuracy: 0.4983 - val_loss: 0.6933 - val_accuracy: 0.5000\n",
      "Epoch 10/50\n",
      "293/293 [==============================] - 49s 169ms/step - loss: 0.7075 - accuracy: 0.4437 - val_loss: 0.6929 - val_accuracy: 0.5135\n",
      "Epoch 11/50\n",
      "293/293 [==============================] - 46s 158ms/step - loss: 0.6951 - accuracy: 0.4676 - val_loss: 0.6932 - val_accuracy: 0.5135\n",
      "Epoch 12/50\n",
      "293/293 [==============================] - 47s 160ms/step - loss: 0.6978 - accuracy: 0.4949 - val_loss: 0.6929 - val_accuracy: 0.5135\n",
      "Epoch 13/50\n",
      "293/293 [==============================] - 49s 168ms/step - loss: 0.6867 - accuracy: 0.5529 - val_loss: 0.6949 - val_accuracy: 0.4865\n",
      "Epoch 14/50\n",
      "293/293 [==============================] - 46s 156ms/step - loss: 0.6996 - accuracy: 0.5051 - val_loss: 0.6934 - val_accuracy: 0.5135\n",
      "Epoch 15/50\n",
      "293/293 [==============================] - 54s 183ms/step - loss: 0.6956 - accuracy: 0.5188 - val_loss: 0.6936 - val_accuracy: 0.5135\n",
      "Epoch 16/50\n",
      "293/293 [==============================] - 48s 164ms/step - loss: 0.6961 - accuracy: 0.5119 - val_loss: 0.6947 - val_accuracy: 0.5135\n",
      "Epoch 17/50\n",
      "293/293 [==============================] - 44s 149ms/step - loss: 0.6912 - accuracy: 0.5495 - val_loss: 0.6927 - val_accuracy: 0.5135\n",
      "Epoch 18/50\n",
      "293/293 [==============================] - 48s 164ms/step - loss: 0.7067 - accuracy: 0.4608 - val_loss: 0.6951 - val_accuracy: 0.4865\n",
      "Epoch 19/50\n",
      "293/293 [==============================] - 44s 150ms/step - loss: 0.6933 - accuracy: 0.5119 - val_loss: 0.6929 - val_accuracy: 0.5135\n",
      "Epoch 20/50\n",
      "293/293 [==============================] - 43s 148ms/step - loss: 0.6958 - accuracy: 0.4778 - val_loss: 0.6929 - val_accuracy: 0.5135\n",
      "Epoch 21/50\n",
      "293/293 [==============================] - 44s 151ms/step - loss: 0.7002 - accuracy: 0.4812 - val_loss: 0.6928 - val_accuracy: 0.5135\n",
      "Epoch 22/50\n",
      "293/293 [==============================] - 46s 158ms/step - loss: 0.6998 - accuracy: 0.4881 - val_loss: 0.6928 - val_accuracy: 0.5135\n",
      "Epoch 23/50\n",
      "293/293 [==============================] - 43s 148ms/step - loss: 0.6993 - accuracy: 0.5017 - val_loss: 0.6930 - val_accuracy: 0.5135\n",
      "Epoch 24/50\n",
      "293/293 [==============================] - 44s 151ms/step - loss: 0.6963 - accuracy: 0.5119 - val_loss: 0.6923 - val_accuracy: 0.5135\n",
      "Epoch 25/50\n",
      "293/293 [==============================] - 45s 154ms/step - loss: 0.6918 - accuracy: 0.5017 - val_loss: 0.6928 - val_accuracy: 0.5000\n",
      "Epoch 26/50\n",
      "293/293 [==============================] - 53s 181ms/step - loss: 0.6913 - accuracy: 0.5256 - val_loss: 0.6925 - val_accuracy: 0.5135\n",
      "Epoch 27/50\n",
      "293/293 [==============================] - 46s 156ms/step - loss: 0.6968 - accuracy: 0.5256 - val_loss: 0.6927 - val_accuracy: 0.5135\n",
      "Epoch 28/50\n",
      "293/293 [==============================] - 46s 158ms/step - loss: 0.6949 - accuracy: 0.5017 - val_loss: 0.6929 - val_accuracy: 0.5270\n",
      "Epoch 29/50\n",
      "293/293 [==============================] - 43s 148ms/step - loss: 0.6937 - accuracy: 0.5529 - val_loss: 0.6924 - val_accuracy: 0.5135\n",
      "Epoch 30/50\n",
      "293/293 [==============================] - 46s 156ms/step - loss: 0.6885 - accuracy: 0.5563 - val_loss: 0.6923 - val_accuracy: 0.5135\n",
      "Epoch 31/50\n",
      "293/293 [==============================] - 42s 144ms/step - loss: 0.7040 - accuracy: 0.4369 - val_loss: 0.6934 - val_accuracy: 0.4865\n",
      "Epoch 32/50\n",
      "293/293 [==============================] - 44s 150ms/step - loss: 0.6948 - accuracy: 0.5051 - val_loss: 0.6923 - val_accuracy: 0.5135\n",
      "Epoch 33/50\n",
      "293/293 [==============================] - 48s 165ms/step - loss: 0.6874 - accuracy: 0.5392 - val_loss: 0.6920 - val_accuracy: 0.5135\n",
      "Epoch 34/50\n",
      "293/293 [==============================] - 45s 152ms/step - loss: 0.6967 - accuracy: 0.4642 - val_loss: 0.6919 - val_accuracy: 0.5135\n",
      "Epoch 35/50\n",
      "293/293 [==============================] - 45s 153ms/step - loss: 0.6970 - accuracy: 0.4812 - val_loss: 0.6920 - val_accuracy: 0.5135\n",
      "Epoch 36/50\n",
      "293/293 [==============================] - 47s 159ms/step - loss: 0.6938 - accuracy: 0.5222 - val_loss: 0.6917 - val_accuracy: 0.5135\n",
      "Epoch 37/50\n",
      "293/293 [==============================] - 47s 160ms/step - loss: 0.6949 - accuracy: 0.5051 - val_loss: 0.6910 - val_accuracy: 0.5135\n",
      "Epoch 38/50\n",
      "293/293 [==============================] - 48s 162ms/step - loss: 0.6940 - accuracy: 0.4778 - val_loss: 0.6909 - val_accuracy: 0.5135\n",
      "Epoch 39/50\n",
      "293/293 [==============================] - 44s 150ms/step - loss: 0.6963 - accuracy: 0.4778 - val_loss: 0.6907 - val_accuracy: 0.5000\n",
      "Epoch 40/50\n",
      "293/293 [==============================] - 48s 162ms/step - loss: 0.6935 - accuracy: 0.5222 - val_loss: 0.6916 - val_accuracy: 0.5135\n",
      "Epoch 41/50\n",
      "293/293 [==============================] - 48s 165ms/step - loss: 0.6945 - accuracy: 0.5119 - val_loss: 0.6914 - val_accuracy: 0.5405\n",
      "Epoch 42/50\n",
      "293/293 [==============================] - 45s 153ms/step - loss: 0.6923 - accuracy: 0.5051 - val_loss: 0.6911 - val_accuracy: 0.6081\n",
      "Epoch 43/50\n",
      "293/293 [==============================] - 43s 147ms/step - loss: 0.6957 - accuracy: 0.5154 - val_loss: 0.6918 - val_accuracy: 0.6081\n",
      "Epoch 44/50\n",
      "293/293 [==============================] - 46s 159ms/step - loss: 0.6929 - accuracy: 0.4710 - val_loss: 0.6910 - val_accuracy: 0.5811\n",
      "Epoch 45/50\n",
      "293/293 [==============================] - 49s 168ms/step - loss: 0.6926 - accuracy: 0.5119 - val_loss: 0.6903 - val_accuracy: 0.5946\n",
      "Epoch 46/50\n",
      "293/293 [==============================] - 52s 179ms/step - loss: 0.6920 - accuracy: 0.5119 - val_loss: 0.6910 - val_accuracy: 0.5811\n",
      "Epoch 47/50\n",
      "293/293 [==============================] - 54s 183ms/step - loss: 0.6917 - accuracy: 0.5358 - val_loss: 0.6915 - val_accuracy: 0.4865\n",
      "Epoch 48/50\n",
      "293/293 [==============================] - 53s 180ms/step - loss: 0.6920 - accuracy: 0.5324 - val_loss: 0.6910 - val_accuracy: 0.5135\n",
      "Epoch 49/50\n",
      "293/293 [==============================] - 58s 198ms/step - loss: 0.6918 - accuracy: 0.5017 - val_loss: 0.6891 - val_accuracy: 0.5811\n",
      "Epoch 50/50\n",
      "293/293 [==============================] - 65s 220ms/step - loss: 0.6895 - accuracy: 0.5188 - val_loss: 0.6901 - val_accuracy: 0.5811\n"
     ]
    },
    {
     "data": {
      "text/plain": [
       "<keras.callbacks.callbacks.History at 0x13ad557d0>"
      ]
     },
     "execution_count": 34,
     "metadata": {},
     "output_type": "execute_result"
    }
   ],
   "source": [
    "model.fit(train_X, train_y, epochs=50, validation_split=0.2, batch_size=64)"
   ]
  },
  {
   "cell_type": "code",
   "execution_count": 35,
   "metadata": {},
   "outputs": [
    {
     "data": {
      "image/png": "[encoded data removed]",
      "text/plain": [
       "<Figure size 1440x720 with 2 Axes>"
      ]
     },
     "metadata": {
      "needs_background": "light"
     },
     "output_type": "display_data"
    }
   ],
   "source": [
    "epochs = [i for i in range(len(model.history.history['val_loss']))]\n",
    "fig , ax = plt.subplots(1,2)\n",
    "train_acc = model.history.history['accuracy']\n",
    "train_loss = model.history.history['loss']\n",
    "val_acc = model.history.history['val_accuracy']\n",
    "val_loss = model.history.history['val_loss']\n",
    "fig.set_size_inches(20,10)\n",
    "\n",
    "ax[0].plot(epochs , train_acc , 'g-' , label = 'Training Accuracy')\n",
    "ax[0].plot(epochs , val_acc , 'r-' , label = 'Testing Accuracy')\n",
    "ax[0].set_title('Training & Validation Accuracy')\n",
    "ax[0].legend()\n",
    "ax[0].set_xlabel(\"Epochs\")\n",
    "ax[0].set_ylabel(\"Accuracy\")\n",
    "\n",
    "ax[1].plot(epochs , train_loss , 'g-' , label = 'Training Loss')\n",
    "ax[1].plot(epochs , val_loss , 'r-' , label = 'Testing Loss')\n",
    "ax[1].set_title('Testing Accuracy & Loss')\n",
    "ax[1].legend()\n",
    "ax[1].set_xlabel(\"Epochs\")\n",
    "ax[1].set_ylabel(\"Loss\")\n",
    "plt.show()"
   ]
  },
  {
   "cell_type": "code",
   "execution_count": 36,
   "metadata": {},
   "outputs": [
    {
     "name": "stdout",
     "output_type": "stream",
     "text": [
      "92/92 [==============================] - 5s 52ms/step\n",
      "Loss of the model is -  0.6946780655695044\n",
      "92/92 [==============================] - 4s 46ms/step\n",
      "Accuracy of the model is -  42.391303181648254 %\n"
     ]
    }
   ],
   "source": [
    "print(\"Loss of the model is - \" , model.evaluate(test_X,test_y)[0])\n",
    "print(\"Accuracy of the model is - \" , model.evaluate(test_X,test_y)[1]*100 , \"%\")"
   ]
  },
  {
   "cell_type": "code",
   "execution_count": null,
   "metadata": {},
   "outputs": [],
   "source": []
  },
  {
   "cell_type": "code",
   "execution_count": null,
   "metadata": {},
   "outputs": [],
   "source": []
  },
  {
   "cell_type": "code",
   "execution_count": null,
   "metadata": {},
   "outputs": [],
   "source": []
  },
  {
   "cell_type": "code",
   "execution_count": null,
   "metadata": {},
   "outputs": [],
   "source": []
  },
  {
   "cell_type": "code",
   "execution_count": 21,
   "metadata": {},
   "outputs": [
    {
     "ename": "ValueError",
     "evalue": "This model has not yet been built. Build the model first by calling build() or calling fit() with some data. Or specify input_shape or batch_input_shape in the first layer for automatic build. ",
     "output_type": "error",
     "traceback": [
      "\u001b[0;31m---------------------------------------------------------------------------\u001b[0m",
      "\u001b[0;31mValueError\u001b[0m                                Traceback (most recent call last)",
      "\u001b[0;32m<ipython-input-21-1403460047f1>\u001b[0m in \u001b[0;36m<module>\u001b[0;34m\u001b[0m\n\u001b[1;32m      4\u001b[0m \u001b[0;31m# compiling the model\u001b[0m\u001b[0;34m\u001b[0m\u001b[0;34m\u001b[0m\u001b[0;34m\u001b[0m\u001b[0m\n\u001b[1;32m      5\u001b[0m \u001b[0mmodel\u001b[0m\u001b[0;34m.\u001b[0m\u001b[0mcompile\u001b[0m\u001b[0;34m(\u001b[0m\u001b[0mloss\u001b[0m\u001b[0;34m=\u001b[0m\u001b[0;34m'binary_crossentropy'\u001b[0m\u001b[0;34m,\u001b[0m\u001b[0moptimizer\u001b[0m\u001b[0;34m=\u001b[0m\u001b[0;34m'Adam'\u001b[0m\u001b[0;34m,\u001b[0m\u001b[0mmetrics\u001b[0m\u001b[0;34m=\u001b[0m\u001b[0;34m[\u001b[0m\u001b[0;34m'accuracy'\u001b[0m\u001b[0;34m]\u001b[0m\u001b[0;34m)\u001b[0m\u001b[0;34m\u001b[0m\u001b[0;34m\u001b[0m\u001b[0m\n\u001b[0;32m----> 6\u001b[0;31m \u001b[0mmodel\u001b[0m\u001b[0;34m.\u001b[0m\u001b[0msummary\u001b[0m\u001b[0;34m(\u001b[0m\u001b[0;34m)\u001b[0m\u001b[0;34m\u001b[0m\u001b[0;34m\u001b[0m\u001b[0m\n\u001b[0m",
      "\u001b[0;32m/usr/local/Cellar/jupyterlab/1.2.4/libexec/lib/python3.7/site-packages/keras/engine/network.py\u001b[0m in \u001b[0;36msummary\u001b[0;34m(self, line_length, positions, print_fn)\u001b[0m\n\u001b[1;32m   1318\u001b[0m         \u001b[0;32mif\u001b[0m \u001b[0;32mnot\u001b[0m \u001b[0mself\u001b[0m\u001b[0;34m.\u001b[0m\u001b[0mbuilt\u001b[0m\u001b[0;34m:\u001b[0m\u001b[0;34m\u001b[0m\u001b[0;34m\u001b[0m\u001b[0m\n\u001b[1;32m   1319\u001b[0m             raise ValueError(\n\u001b[0;32m-> 1320\u001b[0;31m                 \u001b[0;34m'This model has not yet been built. '\u001b[0m\u001b[0;34m\u001b[0m\u001b[0;34m\u001b[0m\u001b[0m\n\u001b[0m\u001b[1;32m   1321\u001b[0m                 \u001b[0;34m'Build the model first by calling build() '\u001b[0m\u001b[0;34m\u001b[0m\u001b[0;34m\u001b[0m\u001b[0m\n\u001b[1;32m   1322\u001b[0m                 \u001b[0;34m'or calling fit() with some data. '\u001b[0m\u001b[0;34m\u001b[0m\u001b[0;34m\u001b[0m\u001b[0m\n",
      "\u001b[0;31mValueError\u001b[0m: This model has not yet been built. Build the model first by calling build() or calling fit() with some data. Or specify input_shape or batch_input_shape in the first layer for automatic build. "
     ]
    }
   ],
   "source": [
    "# creating the CNN-LSTM model\n",
    "model = create_model()\n",
    "\n",
    "# compiling the model\n",
    "model.compile(loss='binary_crossentropy',optimizer='Adam',metrics=['accuracy'])\n",
    "model.summary()"
   ]
  },
  {
   "cell_type": "code",
   "execution_count": null,
   "metadata": {},
   "outputs": [],
   "source": []
  },
  {
   "cell_type": "code",
   "execution_count": null,
   "metadata": {},
   "outputs": [],
   "source": []
  },
  {
   "cell_type": "code",
   "execution_count": null,
   "metadata": {},
   "outputs": [],
   "source": []
  },
  {
   "cell_type": "code",
   "execution_count": null,
   "metadata": {},
   "outputs": [],
   "source": []
  },
  {
   "cell_type": "code",
   "execution_count": null,
   "metadata": {},
   "outputs": [],
   "source": []
  },
  {
   "cell_type": "code",
   "execution_count": null,
   "metadata": {},
   "outputs": [],
   "source": []
  }
 ],
 "metadata": {
  "kernelspec": {
   "display_name": "Python 3",
   "language": "python",
   "name": "python3"
  },
  "language_info": {
   "codemirror_mode": {
    "name": "ipython",
    "version": 3
   },
   "file_extension": ".py",
   "mimetype": "text/x-python",
   "name": "python",
   "nbconvert_exporter": "python",
   "pygments_lexer": "ipython3",
   "version": "3.7.6"
  }
 },
 "nbformat": 4,
 "nbformat_minor": 2
}
