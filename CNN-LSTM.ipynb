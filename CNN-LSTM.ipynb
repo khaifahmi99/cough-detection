{
 "cells": [
  {
   "cell_type": "code",
   "execution_count": 36,
   "metadata": {},
   "outputs": [],
   "source": [
    "import pandas as pd\n",
    "import numpy as np\n",
    "import matplotlib.pyplot as plt\n",
    "import seaborn as sns\n",
    "import os\n",
    "import cv2\n",
    "import imutils\n",
    "\n",
    "%matplotlib inline"
   ]
  },
  {
   "cell_type": "code",
   "execution_count": 18,
   "metadata": {},
   "outputs": [],
   "source": [
    "COUGH_PATH = 'videos_final/cough/'\n",
    "NOT_COUGH_PATH = 'videos_final/not_cough/'\n",
    "\n",
    "cough_vids = os.listdir(COUGH_PATH)\n",
    "not_cough_vids = os.listdir(NOT_COUGH_PATH)\n",
    "\n",
    "if '.DS_Store' in cough_vids:\n",
    "    cough_vids.remove('.DS_Store')\n",
    "    \n",
    "if '.DS_Store' in not_cough_vids:    \n",
    "    not_cough_vids.remove('.DS_Store')"
   ]
  },
  {
   "cell_type": "code",
   "execution_count": 19,
   "metadata": {},
   "outputs": [
    {
     "data": {
      "text/plain": [
       "4"
      ]
     },
     "execution_count": 19,
     "metadata": {},
     "output_type": "execute_result"
    }
   ],
   "source": [
    "video_length = []\n",
    "\n",
    "for vid in cough_vids:\n",
    "    frames = []\n",
    "    \n",
    "    # read video\n",
    "    cap = cv2.VideoCapture(COUGH_PATH + vid)\n",
    "    success, frame = cap.read()\n",
    "    while success:\n",
    "        frames.append(frame)\n",
    "        success, frame = cap.read()\n",
    "\n",
    "    video_length.append(len(frames))\n",
    "    \n",
    "for vid in not_cough_vids:\n",
    "    frames = []\n",
    "    \n",
    "    # read video\n",
    "    cap = cv2.VideoCapture(NOT_COUGH_PATH + vid)\n",
    "    success, frame = cap.read()\n",
    "    while success:\n",
    "        frames.append(frame)\n",
    "        success, frame = cap.read()\n",
    "    \n",
    "    video_length.append(len(frames))"
   ]
  },
  {
   "cell_type": "code",
   "execution_count": 24,
   "metadata": {},
   "outputs": [
    {
     "data": {
      "text/plain": [
       "[4, 4, 6, 6, 8, 8, 9, 9, 9, 10]"
      ]
     },
     "execution_count": 24,
     "metadata": {},
     "output_type": "execute_result"
    }
   ],
   "source": [
    "video_length.sort()\n",
    "video_length[:10]"
   ]
  },
  {
   "cell_type": "code",
   "execution_count": 46,
   "metadata": {},
   "outputs": [],
   "source": [
    "MIN_LENGTH = 10\n",
    "\n",
    "X = []\n",
    "y = []\n",
    "\n",
    "for vid in cough_vids:\n",
    "    frames = []\n",
    "    \n",
    "    # read video\n",
    "    cap = cv2.VideoCapture(COUGH_PATH + vid)\n",
    "    success, frame = cap.read()\n",
    "    while success:\n",
    "        frame = cv2.resize(frame, (228, 228))\n",
    "        frames.append(frame)\n",
    "        success, frame = cap.read()\n",
    "        \n",
    "    \n",
    "    if len(frames) >= MIN_LENGTH:\n",
    "        # append img array in X and label in Y\n",
    "        X.append(frames[:10])\n",
    "        y.append(1) # label 1 for coughing\n",
    "        \n",
    "for vid in not_cough_vids:\n",
    "    frames = []\n",
    "    \n",
    "    # read video\n",
    "    cap = cv2.VideoCapture(NOT_COUGH_PATH + vid)\n",
    "    success, frame = cap.read()\n",
    "    while success:\n",
    "        frame = cv2.resize(frame, (228, 228))\n",
    "        frames.append(frame)\n",
    "        success, frame = cap.read()\n",
    "    \n",
    "    if len(frames) >= MIN_LENGTH:\n",
    "        # append img array in X and label in Y\n",
    "        X.append(frames[:10])\n",
    "        y.append(0) # label 0 for not coughing"
   ]
  },
  {
   "cell_type": "code",
   "execution_count": 47,
   "metadata": {},
   "outputs": [],
   "source": [
    "X = np.asarray(X)\n",
    "y = np.asarray(y)"
   ]
  },
  {
   "cell_type": "code",
   "execution_count": 48,
   "metadata": {},
   "outputs": [
    {
     "data": {
      "text/plain": [
       "(459, 10, 228, 228, 3)"
      ]
     },
     "execution_count": 48,
     "metadata": {},
     "output_type": "execute_result"
    }
   ],
   "source": [
    "X.shape"
   ]
  },
  {
   "cell_type": "code",
   "execution_count": 49,
   "metadata": {},
   "outputs": [
    {
     "data": {
      "text/plain": [
       "(459,)"
      ]
     },
     "execution_count": 49,
     "metadata": {},
     "output_type": "execute_result"
    }
   ],
   "source": [
    "y.shape"
   ]
  },
  {
   "cell_type": "code",
   "execution_count": null,
   "metadata": {},
   "outputs": [],
   "source": []
  }
 ],
 "metadata": {
  "kernelspec": {
   "display_name": "Python 3",
   "language": "python",
   "name": "python3"
  },
  "language_info": {
   "codemirror_mode": {
    "name": "ipython",
    "version": 3
   },
   "file_extension": ".py",
   "mimetype": "text/x-python",
   "name": "python",
   "nbconvert_exporter": "python",
   "pygments_lexer": "ipython3",
   "version": "3.7.6"
  }
 },
 "nbformat": 4,
 "nbformat_minor": 2
}
