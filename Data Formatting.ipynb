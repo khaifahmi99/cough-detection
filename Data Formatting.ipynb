{
 "cells": [
  {
   "cell_type": "code",
   "execution_count": 2,
   "metadata": {},
   "outputs": [],
   "source": [
    "import cv2 as cv\n",
    "import numpy as np\n",
    "import matplotlib.pyplot as plt\n",
    "import pandas as pd\n",
    "import os\n",
    "\n",
    "%matplotlib inline"
   ]
  },
  {
   "cell_type": "code",
   "execution_count": 14,
   "metadata": {},
   "outputs": [
    {
     "name": "stdout",
     "output_type": "stream",
     "text": [
      "234\n"
     ]
    }
   ],
   "source": [
    "original_vids = os.listdir('unprocessed')\n",
    "original_vids = sorted(original_vids)\n",
    "print(len(original_vids))"
   ]
  },
  {
   "cell_type": "code",
   "execution_count": 20,
   "metadata": {},
   "outputs": [
    {
     "data": {
      "text/plain": [
       "['S001',\n",
       " 'S002',\n",
       " 'S003',\n",
       " 'S004',\n",
       " 'S005',\n",
       " 'S006',\n",
       " 'S007',\n",
       " 'S008',\n",
       " 'S009',\n",
       " 'S010',\n",
       " 'S011',\n",
       " 'S012',\n",
       " 'S013',\n",
       " 'S014',\n",
       " 'S015',\n",
       " 'S016',\n",
       " 'S017',\n",
       " 'S018',\n",
       " 'S019',\n",
       " 'S020']"
      ]
     },
     "execution_count": 20,
     "metadata": {},
     "output_type": "execute_result"
    }
   ],
   "source": [
    "person_list = []\n",
    "for vid in original_vids:\n",
    "    name = vid.split('_')\n",
    "    person_list.append(name[0])\n",
    "\n",
    "person_list = sorted(list(set(person_list)))\n",
    "person_list"
   ]
  },
  {
   "cell_type": "code",
   "execution_count": 22,
   "metadata": {},
   "outputs": [
    {
     "name": "stdout",
     "output_type": "stream",
     "text": [
      "234\n"
     ]
    }
   ],
   "source": [
    "from shutil import copyfile\n",
    "\n",
    "for per in person_list:\n",
    "    count = 1\n",
    "    for vid in original_vids:\n",
    "        if per in vid:\n",
    "            copyfile('./unprocessed/' + vid, './dataset/' + per + '_v' + str(count) + '.avi')\n",
    "            count+=1\n",
    "            \n",
    "print(len(os.listdir('./dataset/')))"
   ]
  },
  {
   "cell_type": "code",
   "execution_count": null,
   "metadata": {},
   "outputs": [],
   "source": []
  }
 ],
 "metadata": {
  "kernelspec": {
   "display_name": "Python 3",
   "language": "python",
   "name": "python3"
  },
  "language_info": {
   "codemirror_mode": {
    "name": "ipython",
    "version": 3
   },
   "file_extension": ".py",
   "mimetype": "text/x-python",
   "name": "python",
   "nbconvert_exporter": "python",
   "pygments_lexer": "ipython3",
   "version": "3.7.6"
  }
 },
 "nbformat": 4,
 "nbformat_minor": 2
}
