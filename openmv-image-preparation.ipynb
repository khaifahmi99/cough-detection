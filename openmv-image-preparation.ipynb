{
 "cells": [
  {
   "cell_type": "code",
   "execution_count": 5,
   "metadata": {
    "_cell_guid": "b1076dfc-b9ad-4769-8c92-a6c4dae69d19",
    "_uuid": "8f2839f25d086af736a60e9eeb907d3b93b6e0e5",
    "execution": {
     "iopub.execute_input": "2020-10-11T05:49:14.661940Z",
     "iopub.status.busy": "2020-10-11T05:49:14.661319Z",
     "iopub.status.idle": "2020-10-11T05:49:16.155047Z",
     "shell.execute_reply": "2020-10-11T05:49:16.154451Z"
    },
    "papermill": {
     "duration": 1.505706,
     "end_time": "2020-10-11T05:49:16.155190",
     "exception": false,
     "start_time": "2020-10-11T05:49:14.649484",
     "status": "completed"
    },
    "tags": []
   },
   "outputs": [],
   "source": [
    "import os\n",
    "import matplotlib.pyplot as plt\n",
    "import numpy as np\n",
    "import pandas as pd\n",
    "import seaborn as sns\n",
    "from PIL import Image\n",
    "import cv2 as cv\n",
    "\n",
    "%matplotlib inline"
   ]
  },
  {
   "cell_type": "code",
   "execution_count": 6,
   "metadata": {
    "_cell_guid": "79c7e3d0-c299-4dcb-8224-4455121ee9b0",
    "_uuid": "d629ff2d2480ee46fbb7e2d37f6b5fab8052498a",
    "execution": {
     "iopub.execute_input": "2020-10-11T05:49:16.178513Z",
     "iopub.status.busy": "2020-10-11T05:49:16.177563Z",
     "iopub.status.idle": "2020-10-11T05:49:16.216422Z",
     "shell.execute_reply": "2020-10-11T05:49:16.216045Z"
    },
    "papermill": {
     "duration": 0.053407,
     "end_time": "2020-10-11T05:49:16.216515",
     "exception": false,
     "start_time": "2020-10-11T05:49:16.163108",
     "status": "completed"
    },
    "tags": []
   },
   "outputs": [
    {
     "data": {
      "text/html": [
       "<div>\n",
       "<style scoped>\n",
       "    .dataframe tbody tr th:only-of-type {\n",
       "        vertical-align: middle;\n",
       "    }\n",
       "\n",
       "    .dataframe tbody tr th {\n",
       "        vertical-align: top;\n",
       "    }\n",
       "\n",
       "    .dataframe thead th {\n",
       "        text-align: right;\n",
       "    }\n",
       "</style>\n",
       "<table border=\"1\" class=\"dataframe\">\n",
       "  <thead>\n",
       "    <tr style=\"text-align: right;\">\n",
       "      <th></th>\n",
       "      <th>file</th>\n",
       "      <th>label</th>\n",
       "    </tr>\n",
       "  </thead>\n",
       "  <tbody>\n",
       "    <tr>\n",
       "      <th>0</th>\n",
       "      <td>./frames/S001_v001/S001_v001_frame_1.jpg</td>\n",
       "      <td>0.0</td>\n",
       "    </tr>\n",
       "    <tr>\n",
       "      <th>1</th>\n",
       "      <td>./frames/S001_v001/S001_v001_frame_2.jpg</td>\n",
       "      <td>0.0</td>\n",
       "    </tr>\n",
       "    <tr>\n",
       "      <th>2</th>\n",
       "      <td>./frames/S001_v001/S001_v001_frame_3.jpg</td>\n",
       "      <td>0.0</td>\n",
       "    </tr>\n",
       "    <tr>\n",
       "      <th>3</th>\n",
       "      <td>./frames/S001_v001/S001_v001_frame_4.jpg</td>\n",
       "      <td>0.0</td>\n",
       "    </tr>\n",
       "    <tr>\n",
       "      <th>4</th>\n",
       "      <td>./frames/S001_v001/S001_v001_frame_5.jpg</td>\n",
       "      <td>0.0</td>\n",
       "    </tr>\n",
       "    <tr>\n",
       "      <th>...</th>\n",
       "      <td>...</td>\n",
       "      <td>...</td>\n",
       "    </tr>\n",
       "    <tr>\n",
       "      <th>15899</th>\n",
       "      <td>./frames/S020_v012/S020_v012_frame_52.jpg</td>\n",
       "      <td>0.0</td>\n",
       "    </tr>\n",
       "    <tr>\n",
       "      <th>15900</th>\n",
       "      <td>./frames/S020_v012/S020_v012_frame_53.jpg</td>\n",
       "      <td>0.0</td>\n",
       "    </tr>\n",
       "    <tr>\n",
       "      <th>15901</th>\n",
       "      <td>./frames/S020_v012/S020_v012_frame_54.jpg</td>\n",
       "      <td>0.0</td>\n",
       "    </tr>\n",
       "    <tr>\n",
       "      <th>15902</th>\n",
       "      <td>./frames/S020_v012/S020_v012_frame_55.jpg</td>\n",
       "      <td>0.0</td>\n",
       "    </tr>\n",
       "    <tr>\n",
       "      <th>15903</th>\n",
       "      <td>./frames/S020_v012/S020_v012_frame_56.jpg</td>\n",
       "      <td>0.0</td>\n",
       "    </tr>\n",
       "  </tbody>\n",
       "</table>\n",
       "<p>15904 rows × 2 columns</p>\n",
       "</div>"
      ],
      "text/plain": [
       "                                            file  label\n",
       "0       ./frames/S001_v001/S001_v001_frame_1.jpg    0.0\n",
       "1       ./frames/S001_v001/S001_v001_frame_2.jpg    0.0\n",
       "2       ./frames/S001_v001/S001_v001_frame_3.jpg    0.0\n",
       "3       ./frames/S001_v001/S001_v001_frame_4.jpg    0.0\n",
       "4       ./frames/S001_v001/S001_v001_frame_5.jpg    0.0\n",
       "...                                          ...    ...\n",
       "15899  ./frames/S020_v012/S020_v012_frame_52.jpg    0.0\n",
       "15900  ./frames/S020_v012/S020_v012_frame_53.jpg    0.0\n",
       "15901  ./frames/S020_v012/S020_v012_frame_54.jpg    0.0\n",
       "15902  ./frames/S020_v012/S020_v012_frame_55.jpg    0.0\n",
       "15903  ./frames/S020_v012/S020_v012_frame_56.jpg    0.0\n",
       "\n",
       "[15904 rows x 2 columns]"
      ]
     },
     "execution_count": 6,
     "metadata": {},
     "output_type": "execute_result"
    }
   ],
   "source": [
    "df = pd.read_csv('frames_label.csv')\n",
    "df = df.fillna(0)\n",
    "df"
   ]
  },
  {
   "cell_type": "code",
   "execution_count": 7,
   "metadata": {
    "execution": {
     "iopub.execute_input": "2020-10-11T05:49:16.232498Z",
     "iopub.status.busy": "2020-10-11T05:49:16.232041Z",
     "iopub.status.idle": "2020-10-11T05:49:16.389319Z",
     "shell.execute_reply": "2020-10-11T05:49:16.388646Z"
    },
    "papermill": {
     "duration": 0.167274,
     "end_time": "2020-10-11T05:49:16.389424",
     "exception": false,
     "start_time": "2020-10-11T05:49:16.222150",
     "status": "completed"
    },
    "tags": []
   },
   "outputs": [
    {
     "name": "stderr",
     "output_type": "stream",
     "text": [
      "/usr/local/Cellar/jupyterlab/2.2.8/libexec/lib/python3.8/site-packages/seaborn/_decorators.py:36: FutureWarning: Pass the following variable as a keyword arg: x. From version 0.12, the only valid positional argument will be `data`, and passing other arguments without an explicit keyword will result in an error or misinterpretation.\n",
      "  warnings.warn(\n"
     ]
    },
    {
     "data": {
      "text/plain": [
       "<AxesSubplot:xlabel='label', ylabel='count'>"
      ]
     },
     "execution_count": 7,
     "metadata": {},
     "output_type": "execute_result"
    },
    {
     "data": {
      "image/png": "[encoded data removed]",
      "text/plain": [
       "<Figure size 432x288 with 1 Axes>"
      ]
     },
     "metadata": {
      "needs_background": "light"
     },
     "output_type": "display_data"
    }
   ],
   "source": [
    "sns.countplot(df['label'])"
   ]
  },
  {
   "cell_type": "code",
   "execution_count": 8,
   "metadata": {
    "execution": {
     "iopub.execute_input": "2020-10-11T05:49:16.413589Z",
     "iopub.status.busy": "2020-10-11T05:49:16.412862Z",
     "iopub.status.idle": "2020-10-11T05:49:16.416099Z",
     "shell.execute_reply": "2020-10-11T05:49:16.416561Z"
    },
    "papermill": {
     "duration": 0.017276,
     "end_time": "2020-10-11T05:49:16.416684",
     "exception": false,
     "start_time": "2020-10-11T05:49:16.399408",
     "status": "completed"
    },
    "tags": []
   },
   "outputs": [],
   "source": [
    "os.mkdir('openMV')"
   ]
  },
  {
   "cell_type": "code",
   "execution_count": 9,
   "metadata": {
    "execution": {
     "iopub.execute_input": "2020-10-11T05:49:16.440824Z",
     "iopub.status.busy": "2020-10-11T05:49:16.440140Z",
     "iopub.status.idle": "2020-10-11T05:49:16.442685Z",
     "shell.execute_reply": "2020-10-11T05:49:16.443213Z"
    },
    "papermill": {
     "duration": 0.016542,
     "end_time": "2020-10-11T05:49:16.443332",
     "exception": false,
     "start_time": "2020-10-11T05:49:16.426790",
     "status": "completed"
    },
    "tags": []
   },
   "outputs": [],
   "source": [
    "os.mkdir('openMV/cough')\n",
    "os.mkdir('openMV/not_cough')"
   ]
  },
  {
   "cell_type": "code",
   "execution_count": 10,
   "metadata": {
    "execution": {
     "iopub.execute_input": "2020-10-11T05:49:16.470116Z",
     "iopub.status.busy": "2020-10-11T05:49:16.469310Z",
     "iopub.status.idle": "2020-10-11T05:49:16.499410Z",
     "shell.execute_reply": "2020-10-11T05:49:16.498821Z"
    },
    "papermill": {
     "duration": 0.044659,
     "end_time": "2020-10-11T05:49:16.499499",
     "exception": false,
     "start_time": "2020-10-11T05:49:16.454840",
     "status": "completed"
    },
    "tags": []
   },
   "outputs": [
    {
     "name": "stdout",
     "output_type": "stream",
     "text": [
      "5688\n",
      "10216\n"
     ]
    }
   ],
   "source": [
    "cough_frames = df[df['label'] == 1]['file'].values\n",
    "not_cough_frames = df[df['label'] == 0]['file'].values\n",
    "\n",
    "print(len(cough_frames))\n",
    "print(len(not_cough_frames))"
   ]
  },
  {
   "cell_type": "code",
   "execution_count": 12,
   "metadata": {
    "execution": {
     "iopub.execute_input": "2020-10-11T05:49:16.521380Z",
     "iopub.status.busy": "2020-10-11T05:49:16.520752Z",
     "iopub.status.idle": "2020-10-11T05:50:43.746949Z",
     "shell.execute_reply": "2020-10-11T05:50:43.746411Z"
    },
    "papermill": {
     "duration": 87.240072,
     "end_time": "2020-10-11T05:50:43.747081",
     "exception": false,
     "start_time": "2020-10-11T05:49:16.507009",
     "status": "completed"
    },
    "tags": []
   },
   "outputs": [],
   "source": [
    "for frame in cough_frames:\n",
    "    name = frame.split('/')[-1]\n",
    "    im = cv.imread(frame)\n",
    "    cv.imwrite('openMV/cough/' + name, im)\n",
    "    \n",
    "for frame in not_cough_frames:\n",
    "    name = frame.split('/')[-1]\n",
    "    im = cv.imread(frame)\n",
    "    cv.imwrite('openMV/not_cough/' + name, im)    "
   ]
  },
  {
   "cell_type": "code",
   "execution_count": null,
   "metadata": {
    "papermill": {
     "duration": 0.354032,
     "end_time": "2020-10-11T05:50:45.013448",
     "exception": false,
     "start_time": "2020-10-11T05:50:44.659416",
     "status": "completed"
    },
    "tags": []
   },
   "outputs": [],
   "source": []
  }
 ],
 "metadata": {
  "kernelspec": {
   "display_name": "Python 3",
   "language": "python",
   "name": "python3"
  },
  "language_info": {
   "codemirror_mode": {
    "name": "ipython",
    "version": 3
   },
   "file_extension": ".py",
   "mimetype": "text/x-python",
   "name": "python",
   "nbconvert_exporter": "python",
   "pygments_lexer": "ipython3",
   "version": "3.8.5"
  },
  "papermill": {
   "duration": 96.008347,
   "end_time": "2020-10-11T05:50:46.396107",
   "environment_variables": {},
   "exception": null,
   "input_path": "__notebook__.ipynb",
   "output_path": "__notebook__.ipynb",
   "parameters": {},
   "start_time": "2020-10-11T05:49:10.387760",
   "version": "2.1.0"
  }
 },
 "nbformat": 4,
 "nbformat_minor": 4
}
